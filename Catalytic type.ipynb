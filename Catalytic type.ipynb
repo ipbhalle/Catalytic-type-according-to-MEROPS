{
 "cells": [
  {
   "cell_type": "code",
   "execution_count": 6,
   "id": "e0f68674-4201-41cc-ada6-1413020ae986",
   "metadata": {},
   "outputs": [
    {
     "name": "stdout",
     "output_type": "stream",
     "text": [
      "Guy_11_Compiled_filtered.xlsx  merged.ipynb\n",
      "Guy_11_Compiled_updated.xlsx   PFAM.xlsx\n",
      "Interproscan_matched.xlsx      Protein_accession_final.xlsx\n"
     ]
    }
   ],
   "source": [
    "ls"
   ]
  },
  {
   "cell_type": "code",
   "execution_count": null,
   "id": "49701398-0a2f-4022-8b12-c7af8c63787e",
   "metadata": {},
   "outputs": [],
   "source": []
  },
  {
   "cell_type": "code",
   "execution_count": null,
   "id": "91df8886-0345-4425-8814-725bbe549979",
   "metadata": {},
   "outputs": [],
   "source": [
    "import pandas as pd\n",
    "\n",
    "# Load both Excel files\n",
    "guy_11_df = pd.read_excel('Guy_11_Compiled.xlsx')\n",
    "protein_df = pd.read_excel('Protein_accession_final.xlsx')\n",
    "\n",
    "# Merge the dataframes based on matching columns (Gene_ID and Protein_accession)\n",
    "merged_df = pd.merge(guy_11_df, protein_df[['Protein_accession', 'PFAM Code']], \n",
    "                     left_on='Gene_ID', right_on='Protein_accession', \n",
    "                     how='left')\n",
    "\n",
    "# Drop the 'Protein_accession' column from the merged dataframe as it's not needed\n",
    "merged_df = merged_df.drop(columns=['Protein_accession'])\n",
    "\n",
    "# Rename 'PFAM Code' to 'matched' for clarity\n",
    "merged_df = merged_df.rename(columns={'PFAM Code': 'matched'})\n",
    "\n",
    "# Save the updated dataframe to a new Excel file\n",
    "merged_df.to_excel('Guy_11_Compiled_updated.xlsx', index=False)\n",
    "\n",
    "print(\"Process completed. The updated file is saved as 'Guy_11_Compiled_updated.xlsx'.\")\n"
   ]
  },
  {
   "cell_type": "code",
   "execution_count": 10,
   "id": "61da1448-0c7e-4374-ab7f-268c00d24501",
   "metadata": {},
   "outputs": [
    {
     "name": "stdout",
     "output_type": "stream",
     "text": [
      "Process completed. The updated file is saved as 'Guy_11_Compiled_updated_with_Family.xlsx'.\n"
     ]
    }
   ],
   "source": [
    "import pandas as pd\n",
    "\n",
    "# Load the Guy_11_Compiled_updated.xlsx and PFAM.xlsx files\n",
    "guy_11_df = pd.read_excel('Guy_11_Compiled_updated.xlsx')\n",
    "pfam_df = pd.read_excel('PFAM.xlsx')\n",
    "\n",
    "# Strip any whitespace from column names to ensure correct referencing\n",
    "pfam_df.columns = pfam_df.columns.str.strip()\n",
    "\n",
    "# Check if 'MEROPS Family' and 'MEROPS Subfamily' exist in PFAM.xlsx\n",
    "if 'MEROPS Family' not in pfam_df.columns or 'MEROPS Subfamily' not in pfam_df.columns:\n",
    "    print(\"Columns 'MEROPS Family' or 'MEROPS Subfamily' not found in PFAM.xlsx!\")\n",
    "else:\n",
    "    #Create a list of unique elements from the 'matched' column\n",
    "    unique_matched_list = guy_11_df['matched'].dropna().unique()\n",
    "\n",
    "    #Initialize an empty list to store the 'Family' information for each row\n",
    "    family_list = []\n",
    "\n",
    "    #Iterate over each row in the Guy_11 dataframe to search for matches\n",
    "    for index, row in guy_11_df.iterrows():\n",
    "        matched_value = row['matched']\n",
    "        family_info = []\n",
    "\n",
    "        # Check if the matched value exists in any of the PFAM columns (PFAM1 to PFAM11)\n",
    "        for pfam_col in [f'PFAM{i}' for i in range(1, 12)]:\n",
    "            if matched_value in pfam_df[pfam_col].values:\n",
    "                # If match is found, retrieve the corresponding 'MEROPS Family' and 'MEROPS Subfamily'\n",
    "                merops_family = pfam_df.loc[pfam_df[pfam_col] == matched_value, 'MEROPS Family'].values\n",
    "                merops_subfamily = pfam_df.loc[pfam_df[pfam_col] == matched_value, 'MEROPS Subfamily'].values\n",
    "                \n",
    "                #Check if the arrays are not empty\n",
    "                if merops_family.size > 0 and merops_subfamily.size > 0:\n",
    "                    family_info.append(f'{merops_family[0]}/{merops_subfamily[0]}')\n",
    "                elif merops_family.size > 0:\n",
    "                    family_info.append(merops_family[0])\n",
    "                elif merops_subfamily.size > 0:\n",
    "                    family_info.append(merops_subfamily[0])\n",
    "\n",
    "        # If no match is found, leave the family_info empty (or append 'No match')\n",
    "        if not family_info:\n",
    "            family_list.append('No match')\n",
    "        else:\n",
    "            # Join all matches found (in case there are multiple) into one string\n",
    "            family_list.append('; '.join(family_info))\n",
    "\n",
    "    #Append the 'Family' information to the Guy_11 dataframe\n",
    "    guy_11_df['Family'] = family_list\n",
    "\n",
    "    #Export the updated dataframe to a new Excel file\n",
    "    guy_11_df.to_excel('Guy_11_Compiled_updated_with_Family.xlsx', index=False)\n",
    "\n",
    "    print(\"Process completed. The updated file is saved as 'Guy_11_Compiled_updated_with_Family.xlsx'.\")\n"
   ]
  },
  {
   "cell_type": "code",
   "execution_count": null,
   "id": "7c93ce67-e039-41a6-aedc-f992173ad1de",
   "metadata": {},
   "outputs": [],
   "source": []
  },
  {
   "cell_type": "code",
   "execution_count": null,
   "id": "581d4255-28de-4cf3-8296-7b8aaf86e8f9",
   "metadata": {},
   "outputs": [],
   "source": []
  },
  {
   "cell_type": "code",
   "execution_count": null,
   "id": "08bd7d2d-0833-4d6f-b151-f13be4ee004e",
   "metadata": {},
   "outputs": [],
   "source": []
  }
 ],
 "metadata": {
  "kernelspec": {
   "display_name": "Python 3 (ipykernel)",
   "language": "python",
   "name": "python3"
  },
  "language_info": {
   "codemirror_mode": {
    "name": "ipython",
    "version": 3
   },
   "file_extension": ".py",
   "mimetype": "text/x-python",
   "name": "python",
   "nbconvert_exporter": "python",
   "pygments_lexer": "ipython3",
   "version": "3.12.3"
  }
 },
 "nbformat": 4,
 "nbformat_minor": 5
}
